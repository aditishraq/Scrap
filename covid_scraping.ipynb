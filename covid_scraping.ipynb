{
 "cells": [
  {
   "cell_type": "code",
   "execution_count": 1,
   "metadata": {},
   "outputs": [],
   "source": [
    "import pandas as pd \n",
    "from bs4 import BeautifulSoup\n",
    "import numpy as np\n",
    "import requests\n",
    "import warnings\n",
    "warnings.filterwarnings(\"ignore\")"
   ]
  },
  {
   "cell_type": "code",
   "execution_count": 2,
   "metadata": {},
   "outputs": [
    {
     "data": {
      "text/plain": [
       "<Response [200]>"
      ]
     },
     "execution_count": 2,
     "metadata": {},
     "output_type": "execute_result"
    }
   ],
   "source": [
    "data = requests.get(\"https://www.worldometers.info/coronavirus/\")\n",
    "data"
   ]
  },
  {
   "cell_type": "code",
   "execution_count": 8,
   "metadata": {},
   "outputs": [
    {
     "data": {
      "text/plain": [
       "['\\n#\\nCountry,Other\\nTotalCases\\nNewCases\\nTotalDeaths\\nNewDeaths\\nTotalRecovered\\nNewRecovered\\nActiveCases\\nSerious,Critical\\nTot\\xa0Cases/1M pop\\nDeaths/1M pop\\nTotalTests\\nTests/\\n1M pop\\n\\nPopulation\\nContinent\\n1 Caseevery X ppl1 Deathevery X ppl1 Testevery X ppl\\n',\n",
       " '\\n\\n\\nNorth America\\n\\n34,154,551\\n+2,405\\n778,819\\n+351\\n24,109,812\\n+5,707\\n9,265,920\\n19,411\\n\\n\\n\\n\\n\\nNorth America\\n\\n\\n\\n\\n',\n",
       " '\\n\\n\\nAsia\\n\\n25,666,296\\n+36,938\\n405,500\\n+477\\n24,070,030\\n+34,784\\n1,190,766\\n22,272\\n\\n\\n\\n\\n\\nAsia\\n\\n\\n\\n\\n',\n",
       " '\\n\\n\\nSouth America\\n\\n18,685,264\\n+463\\n483,214\\n+22\\n16,820,664\\n+764\\n1,381,386\\n18,932\\n\\n\\n\\n\\n\\nSouth America\\n\\n\\n\\n\\n',\n",
       " '\\n\\n\\nEurope\\n\\n35,289,481\\n+55,863\\n839,015\\n+1,199\\n24,916,993\\n+45,262\\n9,533,473\\n26,698\\n\\n\\n\\n\\n\\nEurope\\n\\n\\n\\n\\n',\n",
       " '\\n\\n\\nAfrica\\n\\n4,004,118\\n+1,110\\n106,294\\n+14\\n3,566,962\\n+1,393\\n330,862\\n2,585\\n\\n\\n\\n\\n\\nAfrica\\n\\n\\n\\n\\n',\n",
       " '\\n\\n\\nOceania\\n\\n51,806\\n+25\\n1,094\\n\\n34,340\\n+12\\n16,372\\n3\\n\\n\\n\\n\\n\\nAustralia/Oceania\\n\\n\\n\\n\\n',\n",
       " '\\n\\n\\n\\n\\n721\\n\\n15\\n\\n706\\n\\n0\\n0\\n\\n\\n\\n\\n\\n\\n\\n\\n\\n\\n',\n",
       " '\\n\\nWorld\\n117,852,237\\n+96,804\\n2,613,951\\n+2,063\\n93,519,507\\n+87,922\\n21,718,779\\n89,901\\n15,119\\n335.3\\n\\n\\n\\nAll\\n\\n\\n\\n\\n',\n",
       " '\\n1\\nUSA\\n29,744,652\\n\\n538,628 \\n\\n20,449,634\\n\\n8,756,390\\n12,882\\n89,503\\n1,621\\n370,637,295\\n1,115,266\\n332,330,903 \\nNorth America\\n116171\\n',\n",
       " '\\n2\\nIndia\\n11,246,380\\n+1,756\\n157,985 \\n+19\\n10,899,394\\n+1,908\\n189,001\\n8,944\\n8,095\\n114\\n222,716,796\\n160,312\\n1,389,271,622 \\nAsia\\n1248,7946\\n',\n",
       " '\\n3\\nBrazil\\n11,055,480\\n\\n266,614 \\n\\n9,782,320\\n\\n1,006,546\\n8,318\\n51,760\\n1,248\\n28,600,000\\n133,900\\n213,592,800 \\nSouth America\\n198017\\n',\n",
       " '\\n4\\nRussia\\n4,342,474\\n+9,445\\n89,809 \\n+336\\n3,932,177\\n+9,931\\n320,488\\n2,300\\n29,748\\n615\\n113,700,000\\n778,888\\n145,977,387 \\nEurope\\n341,6251\\n',\n",
       " '\\n5\\nUK\\n4,223,232\\n\\n124,566 \\n\\n3,278,629\\n\\n820,037\\n1,542\\n61,988\\n1,828\\n96,520,517\\n1,416,709\\n68,130,111 \\nEurope\\n165471\\n',\n",
       " '\\n6\\nFrance\\n3,909,560\\n\\n88,933 \\n\\n266,096\\n\\n3,554,531\\n3,849\\n59,804\\n1,360\\n55,376,298\\n847,088\\n65,372,513 \\nEurope\\n177351\\n',\n",
       " '\\n7\\nSpain\\n3,160,970\\n\\n71,436 \\n\\n2,810,929\\n\\n278,605\\n2,471\\n67,589\\n1,527\\n40,292,390\\n861,552\\n46,767,201 \\nEurope\\n156551\\n',\n",
       " '\\n8\\nItaly\\n3,081,368\\n\\n100,103 \\n\\n2,508,732\\n\\n472,533\\n2,700\\n51,015\\n1,657\\n42,527,529\\n704,089\\n60,400,789 \\nEurope\\n206031\\n',\n",
       " '\\n9\\nTurkey\\n2,793,632\\n\\n29,094 \\n\\n2,632,030\\n\\n132,508\\n1,239\\n32,882\\n342\\n34,262,280\\n403,282\\n84,958,667 \\nAsia\\n302,9202\\n',\n",
       " '\\n10\\nGermany\\n2,513,768\\n\\n72,698 \\n\\n2,319,600\\n+8,700\\n121,470\\n2,848\\n29,937\\n866\\n45,114,160\\n537,281\\n83,967,493 \\nEurope\\n331,1552\\n',\n",
       " '\\n11\\nColombia\\n2,278,861\\n\\n60,598 \\n\\n2,180,777\\n\\n37,486\\n1,982\\n44,463\\n1,182\\n11,748,990\\n229,234\\n51,253,184 \\nSouth America\\n228464\\n',\n",
       " '\\n12\\nArgentina\\n2,154,694\\n\\n53,121 \\n\\n1,951,540\\n\\n150,033\\n3,484\\n47,378\\n1,168\\n7,749,005\\n170,386\\n45,479,138 \\nSouth America\\n218566\\n',\n",
       " '\\n13\\nMexico\\n2,130,477\\n+1,877\\n190,923 \\n+319\\n1,675,996\\n+5,565\\n263,558\\n4,798\\n16,406\\n1,470\\n5,626,739\\n43,330\\n129,857,710 \\nNorth America\\n6168023\\n',\n",
       " '\\n14\\nPoland\\n1,811,036\\n+9,954\\n45,599 \\n+282\\n1,503,353\\n+9,270\\n262,084\\n1,837\\n47,888\\n1,206\\n10,328,276\\n273,104\\n37,818,158 \\nEurope\\n218294\\n',\n",
       " '\\n15\\nIran\\n1,706,559\\n+8,554\\n60,867 \\n+81\\n1,456,759\\n+7,409\\n188,933\\n3,811\\n20,142\\n718\\n11,274,630\\n133,071\\n84,726,197 \\nAsia\\n501,3928\\n',\n",
       " '\\n16\\nSouth Africa\\n1,521,706\\n\\n50,803 \\n\\n1,442,045\\n\\n28,858\\n546\\n25,439\\n849\\n9,269,122\\n154,953\\n59,818,751 \\nAfrica\\n391,1776\\n',\n",
       " '\\n17\\nUkraine\\n1,410,061\\n+3,261\\n27,204 \\n+76\\n1,199,229\\n+975\\n183,628\\n177\\n32,376\\n625\\n7,062,386\\n162,156\\n43,553,042 \\nEurope\\n311,6016\\n',\n",
       " '\\n18\\nIndonesia\\n1,392,945\\n+6,389\\n37,757 \\n+210\\n1,210,877\\n+7,496\\n144,311\\n\\n5,056\\n137\\n11,266,592\\n40,895\\n275,498,485 \\nAsia\\n1987,29724\\n',\n",
       " '\\n19\\nPeru\\n1,374,467\\n\\n47,973 \\n\\n1,282,228\\n\\n44,266\\n2,199\\n41,294\\n1,441\\n7,940,435\\n238,559\\n33,284,942 \\nSouth America\\n246944\\n',\n",
       " '\\n20\\nCzechia\\n1,335,815\\n+10,466\\n22,147 \\n+110\\n1,150,634\\n+269\\n163,034\\n1,789\\n124,579\\n2,065\\n8,877,876\\n827,959\\n10,722,601 \\nEurope\\n84841\\n',\n",
       " '\\n21\\nNetherlands\\n1,123,909\\n\\n15,861 \\n\\nN/A\\nN/A\\nN/A\\n558\\n65,493\\n924\\n6,970,400\\n406,180\\n17,160,859 \\nEurope\\n151,0822\\n']"
      ]
     },
     "execution_count": 8,
     "metadata": {},
     "output_type": "execute_result"
    }
   ],
   "source": [
    "Parser = BeautifulSoup(data.text, 'html.parser')\n",
    "Select = Parser.select('tr')\n",
    "Parser_again = BeautifulSoup((\"\".join(str(x) for x in Select)), 'html.parser')\n",
    "Result = [tr.text for tr in Select]\n",
    "Result[:30]"
   ]
  },
  {
   "cell_type": "code",
   "execution_count": 10,
   "metadata": {},
   "outputs": [
    {
     "name": "stdout",
     "output_type": "stream",
     "text": [
      "#\n",
      "Country,Other\n",
      "TotalCases\n",
      "NewCases\n",
      "TotalDeaths\n",
      "NewDeaths\n",
      "TotalRecovered\n",
      "NewRecovered\n",
      "ActiveCases\n",
      "Serious,Critical\n",
      "Tot Cases/1M pop\n",
      "Deaths/1M pop\n",
      "TotalTests\n",
      "Tests/\n",
      "1M pop\n",
      "\n",
      "Population\n",
      "Continent\n",
      "1 Caseevery X ppl\n",
      "1 Deathevery X ppl\n",
      "1 Testevery X ppl\n",
      "['#', 'Country,Other', 'TotalCases', 'NewCases', 'TotalDeaths', 'NewDeaths', 'TotalRecovered', 'NewRecovered', 'ActiveCases', 'Serious,Critical', 'Tot\\xa0Cases/1M pop', 'Deaths/1M pop', 'TotalTests', 'Tests/1M pop', 'Population', 'Continent', '1 Caseevery X ppl', '1 Deathevery X ppl', '1 Testevery X ppl']\n"
     ]
    }
   ],
   "source": [
    "headings = []\n",
    "for th in Select[0].find_all(\"th\"):\n",
    "    # remove any newlines and extra spaces from left and right\n",
    "    print(th.text)\n",
    "    #headings.append(td.b.text.replace('\\n', ' ').strip())\n",
    "    headings.append(th.text.replace(\"\\n\",\"\").strip())\n",
    "print(headings)"
   ]
  },
  {
   "cell_type": "code",
   "execution_count": null,
   "metadata": {},
   "outputs": [],
   "source": []
  }
 ],
 "metadata": {
  "kernelspec": {
   "display_name": "Python 3",
   "language": "python",
   "name": "python3"
  },
  "language_info": {
   "codemirror_mode": {
    "name": "ipython",
    "version": 3
   },
   "file_extension": ".py",
   "mimetype": "text/x-python",
   "name": "python",
   "nbconvert_exporter": "python",
   "pygments_lexer": "ipython3",
   "version": "3.7.6"
  }
 },
 "nbformat": 4,
 "nbformat_minor": 4
}
