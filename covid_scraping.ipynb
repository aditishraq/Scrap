{
 "cells": [
  {
   "cell_type": "code",
   "execution_count": 1,
   "metadata": {},
   "outputs": [],
   "source": [
    "import pandas as pd \n",
    "from bs4 import BeautifulSoup\n",
    "import numpy as np\n",
    "import requests\n",
    "import warnings\n",
    "warnings.filterwarnings(\"ignore\")"
   ]
  },
  {
   "cell_type": "code",
   "execution_count": 2,
   "metadata": {},
   "outputs": [
    {
     "data": {
      "text/plain": [
       "<Response [200]>"
      ]
     },
     "execution_count": 2,
     "metadata": {},
     "output_type": "execute_result"
    }
   ],
   "source": [
    "data = requests.get(\"https://www.worldometers.info/coronavirus/\")\n",
    "data"
   ]
  },
  {
   "cell_type": "code",
   "execution_count": 13,
   "metadata": {},
   "outputs": [
    {
     "data": {
      "text/plain": [
       "[<tr>\n",
       " <th width=\"1%\">#</th>\n",
       " <th width=\"100\">Country,<br>Other</br></th>\n",
       " <th width=\"20\">Total<br>Cases</br></th>\n",
       " <th width=\"30\">New<br>Cases</br></th>\n",
       " <th width=\"30\">Total<br>Deaths</br></th>\n",
       " <th width=\"30\">New<br>Deaths</br></th>\n",
       " <th width=\"30\">Total<br>Recovered</br></th>\n",
       " <th width=\"30\">New<br>Recovered</br></th>\n",
       " <th width=\"30\">Active<br/>Cases</th>\n",
       " <th width=\"30\">Serious,<br/>Critical</th>\n",
       " <th width=\"30\">Tot Cases/<br/>1M pop</th>\n",
       " <th width=\"30\">Deaths/<br/>1M pop</th>\n",
       " <th width=\"30\">Total<br/>Tests</th>\n",
       " <th width=\"30\">Tests/<br/>\n",
       " <nobr>1M pop</nobr>\n",
       " </th>\n",
       " <th width=\"30\">Population</th>\n",
       " <th style=\"display:none\" width=\"30\">Continent</th>\n",
       " <th width=\"30\">1 Case<br/>every X ppl</th><th width=\"30\">1 Death<br/>every X ppl</th><th width=\"30\">1 Test<br/>every X ppl</th>\n",
       " </tr>]"
      ]
     },
     "execution_count": 13,
     "metadata": {},
     "output_type": "execute_result"
    }
   ],
   "source": [
    "soup = BeautifulSoup(data.text, 'html.parser')\n",
    "covid_table = soup.find(\"table\", attrs={\"id\": \"main_table_countries_today\"})\n",
    "head = covid_table.thead.find_all(\"tr\") \n",
    "head"
   ]
  },
  {
   "cell_type": "code",
   "execution_count": 14,
   "metadata": {},
   "outputs": [
    {
     "name": "stdout",
     "output_type": "stream",
     "text": [
      "#\n",
      "Country,Other\n",
      "TotalCases\n",
      "NewCases\n",
      "TotalDeaths\n",
      "NewDeaths\n",
      "TotalRecovered\n",
      "NewRecovered\n",
      "ActiveCases\n",
      "Serious,Critical\n",
      "Tot Cases/1M pop\n",
      "Deaths/1M pop\n",
      "TotalTests\n",
      "Tests/\n",
      "1M pop\n",
      "\n",
      "Population\n",
      "Continent\n",
      "1 Caseevery X ppl\n",
      "1 Deathevery X ppl\n",
      "1 Testevery X ppl\n",
      "['#', 'Country,Other', 'TotalCases', 'NewCases', 'TotalDeaths', 'NewDeaths', 'TotalRecovered', 'NewRecovered', 'ActiveCases', 'Serious,Critical', 'Tot\\xa0Cases/1M pop', 'Deaths/1M pop', 'TotalTests', 'Tests/1M pop', 'Population', 'Continent', '1 Caseevery X ppl', '1 Deathevery X ppl', '1 Testevery X ppl']\n"
     ]
    }
   ],
   "source": [
    "headings = []\n",
    "for th in head[0].find_all(\"th\"):\n",
    "    print(th.text)\n",
    "    headings.append(th.text.replace(\"\\n\",\"\").strip())\n",
    "print(headings)"
   ]
  },
  {
   "cell_type": "code",
   "execution_count": 11,
   "metadata": {},
   "outputs": [
    {
     "name": "stdout",
     "output_type": "stream",
     "text": [
      "#\n",
      "Country,Other\n",
      "TotalCases\n",
      "NewCases\n",
      "TotalDeaths\n",
      "NewDeaths\n",
      "TotalRecovered\n",
      "NewRecovered\n",
      "ActiveCases\n",
      "Serious,Critical\n",
      "Tot Cases/1M pop\n",
      "Deaths/1M pop\n",
      "TotalTests\n",
      "Tests/\n",
      "1M pop\n",
      "\n",
      "Population\n",
      "Continent\n",
      "1 Caseevery X ppl\n",
      "1 Deathevery X ppl\n",
      "1 Testevery X ppl\n",
      "['#', 'Country,Other', 'TotalCases', 'NewCases', 'TotalDeaths', 'NewDeaths', 'TotalRecovered', 'NewRecovered', 'ActiveCases', 'Serious,Critical', 'Tot\\xa0Cases/1M pop', 'Deaths/1M pop', 'TotalTests', 'Tests/1M pop', 'Population', 'Continent', '1 Caseevery X ppl', '1 Deathevery X ppl', '1 Testevery X ppl']\n"
     ]
    }
   ],
   "source": [
    "headings = []\n",
    "for th in Select[0].find_all(\"th\"):\n",
    "    # remove any newlines and extra spaces from left and right\n",
    "    print(th.text)\n",
    "    #headings.append(td.b.text.replace('\\n', ' ').strip())\n",
    "    headings.append(th.text.replace(\"\\n\",\"\").strip())\n",
    "print(headings)"
   ]
  },
  {
   "cell_type": "code",
   "execution_count": 17,
   "metadata": {},
   "outputs": [
    {
     "data": {
      "text/plain": [
       "<tr class=\"total_row_world row_continent\" data-continent=\"Asia\" style=\"display: none\">\n",
       "<td></td>\n",
       "<td style=\"text-align:left;\">\n",
       "<nobr>Asia</nobr>\n",
       "</td>\n",
       "<td>25,666,296</td>\n",
       "<td>+36,938</td>\n",
       "<td>405,500</td>\n",
       "<td>+477</td>\n",
       "<td>24,070,030</td>\n",
       "<td>+34,784</td>\n",
       "<td>1,190,766</td>\n",
       "<td>22,272</td>\n",
       "<td></td>\n",
       "<td></td>\n",
       "<td></td>\n",
       "<td></td>\n",
       "<td></td>\n",
       "<td data-continent=\"Asia\" style=\"display:none;\">Asia</td>\n",
       "<td>\n",
       "</td>\n",
       "<td></td>\n",
       "<td></td>\n",
       "</tr>"
      ]
     },
     "execution_count": 17,
     "metadata": {},
     "output_type": "execute_result"
    }
   ],
   "source": [
    "body = covid_table.tbody.find_all(\"tr\") \n",
    "body[1]"
   ]
  },
  {
   "cell_type": "code",
   "execution_count": null,
   "metadata": {},
   "outputs": [],
   "source": []
  }
 ],
 "metadata": {
  "kernelspec": {
   "display_name": "Python 3",
   "language": "python",
   "name": "python3"
  },
  "language_info": {
   "codemirror_mode": {
    "name": "ipython",
    "version": 3
   },
   "file_extension": ".py",
   "mimetype": "text/x-python",
   "name": "python",
   "nbconvert_exporter": "python",
   "pygments_lexer": "ipython3",
   "version": "3.7.6"
  }
 },
 "nbformat": 4,
 "nbformat_minor": 4
}
